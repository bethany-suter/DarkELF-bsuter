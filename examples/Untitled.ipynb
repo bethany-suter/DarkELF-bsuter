{
 "cells": [
  {
   "cell_type": "code",
   "execution_count": 1,
   "id": "237fb49e",
   "metadata": {},
   "outputs": [],
   "source": [
    "import numpy as np"
   ]
  },
  {
   "cell_type": "code",
   "execution_count": 16,
   "id": "fc295fb4",
   "metadata": {},
   "outputs": [
    {
     "name": "stdout",
     "output_type": "stream",
     "text": [
      "False\n",
      "hello\n"
     ]
    }
   ],
   "source": [
    "dic = {'hello':1, 'goodbye':2}\n",
    "print(np.isin(dic.keys(), 'goodbye'))\n",
    "if np.isin(list(dic.keys()), 'hello').any():\n",
    "    print('hello')\n",
    "    dic['goodbye']"
   ]
  },
  {
   "cell_type": "code",
   "execution_count": 9,
   "id": "cad0095d",
   "metadata": {},
   "outputs": [
    {
     "data": {
      "text/plain": [
       "array(False)"
      ]
     },
     "execution_count": 9,
     "metadata": {},
     "output_type": "execute_result"
    }
   ],
   "source": [
    "np.isin(dic.keys(), 'hello')"
   ]
  },
  {
   "cell_type": "code",
   "execution_count": 13,
   "id": "da8afc53",
   "metadata": {},
   "outputs": [
    {
     "data": {
      "text/plain": [
       "['hello']"
      ]
     },
     "execution_count": 13,
     "metadata": {},
     "output_type": "execute_result"
    }
   ],
   "source": [
    "list(dic.keys())"
   ]
  },
  {
   "cell_type": "code",
   "execution_count": null,
   "id": "eb19ad1d",
   "metadata": {},
   "outputs": [],
   "source": []
  }
 ],
 "metadata": {
  "kernelspec": {
   "display_name": "Python 3 (ipykernel)",
   "language": "python",
   "name": "python3"
  },
  "language_info": {
   "codemirror_mode": {
    "name": "ipython",
    "version": 3
   },
   "file_extension": ".py",
   "mimetype": "text/x-python",
   "name": "python",
   "nbconvert_exporter": "python",
   "pygments_lexer": "ipython3",
   "version": "3.9.17"
  }
 },
 "nbformat": 4,
 "nbformat_minor": 5
}
