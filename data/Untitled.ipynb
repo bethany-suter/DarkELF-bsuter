{
 "cells": [
  {
   "cell_type": "code",
   "execution_count": 1,
   "id": "b093c99b",
   "metadata": {},
   "outputs": [],
   "source": [
    "import numpy as np"
   ]
  },
  {
   "cell_type": "code",
   "execution_count": 23,
   "id": "24e62762",
   "metadata": {},
   "outputs": [],
   "source": [
    "(x, y) = np.loadtxt('SiC/C_pDoS.dat',unpack=True)\n",
    "np.savetxt('SiC/C_pDoS.dat',np.array([x/1e3, y*1e3]).T, header='eV, DoS')"
   ]
  },
  {
   "cell_type": "code",
   "execution_count": 19,
   "id": "cf8b6acd",
   "metadata": {},
   "outputs": [],
   "source": [
    "np.savetxt('Ge/Ge_DoS.dat',np.array([x/1e3, y*1e3]).T, header='eV, DoS')\n",
    "np.savetxt('Ge/Ge_DoS.dat',np.array([x/1e3, y*1e3]).T, header='eV, DoS')"
   ]
  },
  {
   "cell_type": "code",
   "execution_count": 17,
   "id": "4540c996",
   "metadata": {},
   "outputs": [],
   "source": [
    "fn = np.loadtxt('ZnS/S_Fn.dat',unpack=True)\n",
    "\n",
    "fn = np.array([fn[0]/1e3,fn[1]*1e3**2,fn[2]*1e3**3,fn[3]*1e3**4,fn[4]*1e3**5,fn[5]*1e3**6,fn[6]*1e3**7,fn[7]*1e3**8,fn[8]*1e3**9,fn[9]*1e3**10,fn[10]*1e3**11])\n",
    "\n",
    "np.savetxt('ZnS/S_Fn.dat', fn.T, header='First column is omega in [eV], second column is F1(omega) in [eV-2], third column is F2(omega) in [eV-3], etc.')\n",
    "\n"
   ]
  },
  {
   "cell_type": "code",
   "execution_count": null,
   "id": "a2321744",
   "metadata": {},
   "outputs": [],
   "source": [
    "np.savetxt('Al/Al_DoS.dat',np.array([x/1e3, y*1e3]).T, header='eV, DoS')"
   ]
  }
 ],
 "metadata": {
  "kernelspec": {
   "display_name": "Python 3 (ipykernel)",
   "language": "python",
   "name": "python3"
  },
  "language_info": {
   "codemirror_mode": {
    "name": "ipython",
    "version": 3
   },
   "file_extension": ".py",
   "mimetype": "text/x-python",
   "name": "python",
   "nbconvert_exporter": "python",
   "pygments_lexer": "ipython3",
   "version": "3.8.9"
  }
 },
 "nbformat": 4,
 "nbformat_minor": 5
}
